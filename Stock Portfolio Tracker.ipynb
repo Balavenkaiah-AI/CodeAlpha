{
 "cells": [
  {
   "cell_type": "code",
   "execution_count": 1,
   "metadata": {},
   "outputs": [
    {
     "name": "stdout",
     "output_type": "stream",
     "text": [
      "Stock Portfolio Tracker\n",
      "1. Add Stock\n",
      "2. Remove Stock\n",
      "3. View Portfolio\n",
      "4. Exit\n",
      "AAPL added to your portfolio.\n",
      "\n",
      "Stock Portfolio Tracker\n",
      "1. Add Stock\n",
      "2. Remove Stock\n",
      "3. View Portfolio\n",
      "4. Exit\n",
      "BBPL added to your portfolio.\n",
      "\n",
      "Stock Portfolio Tracker\n",
      "1. Add Stock\n",
      "2. Remove Stock\n",
      "3. View Portfolio\n",
      "4. Exit\n",
      "CCPL added to your portfolio.\n",
      "\n",
      "Stock Portfolio Tracker\n",
      "1. Add Stock\n",
      "2. Remove Stock\n",
      "3. View Portfolio\n",
      "4. Exit\n",
      "BBPL removed from your portfolio.\n",
      "\n",
      "Stock Portfolio Tracker\n",
      "1. Add Stock\n",
      "2. Remove Stock\n",
      "3. View Portfolio\n",
      "4. Exit\n",
      "\n",
      "Your Portfolio:\n"
     ]
    },
    {
     "name": "stderr",
     "output_type": "stream",
     "text": [
      "C:\\Users\\jjbal\\AppData\\Local\\Temp\\ipykernel_8660\\3434509976.py:6: FutureWarning: Series.__getitem__ treating keys as positions is deprecated. In a future version, integer keys will always be treated as labels (consistent with DataFrame behavior). To access a value by position, use `ser.iloc[pos]`\n",
      "  price = stock.history(period=\"1d\")['Close'][0]\n"
     ]
    },
    {
     "name": "stdout",
     "output_type": "stream",
     "text": [
      "AAPL: 10 shares @ $234.83 (Value: $2348.30, Performance: 56.55%)\n"
     ]
    },
    {
     "name": "stderr",
     "output_type": "stream",
     "text": [
      "$CCPL: possibly delisted; no price data found  (period=1d) (Yahoo error = \"No data found, symbol may be delisted\")\n"
     ]
    },
    {
     "name": "stdout",
     "output_type": "stream",
     "text": [
      "Error fetching stock price for CCPL: index 0 is out of bounds for axis 0 with size 0\n",
      "Total Portfolio Value: $2348.30\n",
      "\n",
      "Stock Portfolio Tracker\n",
      "1. Add Stock\n",
      "2. Remove Stock\n",
      "3. View Portfolio\n",
      "4. Exit\n",
      "Exiting program. Goodbye!\n"
     ]
    }
   ],
   "source": [
    "import yfinance as yf\n",
    "portfolio = {}\n",
    "def get_stock_price(ticker):\n",
    "    try:\n",
    "        stock = yf.Ticker(ticker)\n",
    "        price = stock.history(period=\"1d\")['Close'][0]\n",
    "        return price\n",
    "    except Exception as e:\n",
    "        print(f\"Error fetching stock price for {ticker}: {e}\")\n",
    "        return None\n",
    "def add_stock():\n",
    "    ticker = input(\"Enter stock ticker: \").upper()\n",
    "    shares = int(input(\"Enter the number of shares: \"))\n",
    "    purchase_price = float(input(\"Enter the purchase price: \"))\n",
    "\n",
    "    if ticker in portfolio:\n",
    "        portfolio[ticker][\"shares\"] += shares\n",
    "        portfolio[ticker][\"purchase_price\"] = (portfolio[ticker][\"purchase_price\"] + purchase_price) / 2\n",
    "    else:\n",
    "        portfolio[ticker] = {\"shares\": shares, \"purchase_price\": purchase_price}\n",
    "    print(f\"{ticker} added to your portfolio.\\n\")\n",
    "def remove_stock():\n",
    "    ticker = input(\"Enter stock ticker to remove: \").upper()\n",
    "    if ticker in portfolio:\n",
    "        del portfolio[ticker]\n",
    "        print(f\"{ticker} removed from your portfolio.\\n\")\n",
    "    else:\n",
    "        print(f\"{ticker} is not in your portfolio.\\n\")\n",
    "def view_portfolio():\n",
    "    if not portfolio:\n",
    "        print(\"Your portfolio is empty.\\n\")\n",
    "        return\n",
    "\n",
    "    print(\"\\nYour Portfolio:\")\n",
    "    total_value = 0\n",
    "    for ticker, data in portfolio.items():\n",
    "        current_price = get_stock_price(ticker)\n",
    "        if current_price:\n",
    "            stock_value = current_price * data[\"shares\"]\n",
    "            total_value += stock_value\n",
    "            performance = ((current_price - data[\"purchase_price\"]) / data[\"purchase_price\"]) * 100\n",
    "            print(\n",
    "                f\"{ticker}: {data['shares']} shares @ ${current_price:.2f} \"\n",
    "                f\"(Value: ${stock_value:.2f}, Performance: {performance:.2f}%)\"\n",
    "            )\n",
    "    print(f\"Total Portfolio Value: ${total_value:.2f}\\n\")\n",
    "def main():\n",
    "    while True:\n",
    "        print(\"Stock Portfolio Tracker\")\n",
    "        print(\"1. Add Stock\")\n",
    "        print(\"2. Remove Stock\")\n",
    "        print(\"3. View Portfolio\")\n",
    "        print(\"4. Exit\")\n",
    "\n",
    "        choice = input(\"Enter your choice: \")\n",
    "        if choice == \"1\":\n",
    "            add_stock()\n",
    "        elif choice == \"2\":\n",
    "            remove_stock()\n",
    "        elif choice == \"3\":\n",
    "            view_portfolio()\n",
    "        elif choice == \"4\":\n",
    "            print(\"Exiting program. Goodbye!\")\n",
    "            break\n",
    "        else:\n",
    "            print(\"Invalid choice. Please try again.\\n\")\n",
    "\n",
    "if __name__ == \"__main__\":\n",
    "    main()\n"
   ]
  }
 ],
 "metadata": {
  "kernelspec": {
   "display_name": "Python 3",
   "language": "python",
   "name": "python3"
  },
  "language_info": {
   "codemirror_mode": {
    "name": "ipython",
    "version": 3
   },
   "file_extension": ".py",
   "mimetype": "text/x-python",
   "name": "python",
   "nbconvert_exporter": "python",
   "pygments_lexer": "ipython3",
   "version": "3.12.6"
  }
 },
 "nbformat": 4,
 "nbformat_minor": 2
}
