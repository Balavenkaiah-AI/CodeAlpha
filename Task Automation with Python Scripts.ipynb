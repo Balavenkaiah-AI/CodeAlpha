{
 "cells": [
  {
   "cell_type": "code",
   "execution_count": 1,
   "metadata": {},
   "outputs": [
    {
     "name": "stdout",
     "output_type": "stream",
     "text": [
      "      Name                               Date  Score          Notes\n",
      "0    Alice                         01-01-2024     85  Good progress\n",
      "1      Bob                                NaN     75   Needs review\n",
      "2  Charlie                         02-01-2024     85  Good progress\n",
      "3    Alice                         01-01-2024     85  Good progress\n",
      "Data loaded successfully!\n",
      "Missing values removed.\n",
      "Duplicate rows removed.\n",
      "Column names standardized.\n",
      "Date column converted to datetime.\n",
      "Cleaned data saved to cleaned_data.csv\n"
     ]
    }
   ],
   "source": [
    "     \n",
    "import pandas as pd\n",
    "import os\n",
    "\n",
    "def clean_data(input_file, output_file):\n",
    "    try:\n",
    "        data = pd.read_csv('raw.csv')\n",
    "        print(data)\n",
    "        print(\"Data loaded successfully!\")\n",
    "        data.dropna(inplace=True)\n",
    "        print(\"Missing values removed.\")\n",
    "        data.drop_duplicates(inplace=True)\n",
    "        print(\"Duplicate rows removed.\")\n",
    "        data.columns = [col.strip().lower().replace(\" \", \"_\") for col in data.columns]\n",
    "        print(\"Column names standardized.\")\n",
    "        if 'date' in data.columns:\n",
    "            data['date'] = pd.to_datetime(data['date'], errors='coerce')\n",
    "            print(\"Date column converted to datetime.\")\n",
    "        data.to_csv(output_file, index=False)\n",
    "        print(f\"Cleaned data saved to {output_file}\")\n",
    "\n",
    "    except Exception as e:\n",
    "        print(f\"Error occurred: {e}\")\n",
    "input_file_path = \"raw_data.csv\"  \n",
    "output_file_path = \"cleaned_data.csv\"  \n",
    "clean_data(input_file_path, output_file_path)\n"
   ]
  }
 ],
 "metadata": {
  "kernelspec": {
   "display_name": "Python 3",
   "language": "python",
   "name": "python3"
  },
  "language_info": {
   "codemirror_mode": {
    "name": "ipython",
    "version": 3
   },
   "file_extension": ".py",
   "mimetype": "text/x-python",
   "name": "python",
   "nbconvert_exporter": "python",
   "pygments_lexer": "ipython3",
   "version": "3.12.6"
  }
 },
 "nbformat": 4,
 "nbformat_minor": 2
}
