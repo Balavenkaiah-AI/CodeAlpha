{
 "cells": [
  {
   "cell_type": "code",
   "execution_count": null,
   "metadata": {},
   "outputs": [],
   "source": [
    "import random\n",
    "def hangman():\n",
    "    words = [\"python\", \"hangman\", \"programming\", \"developer\", \"challenge\"]\n",
    "    word = random.choice(words).lower()\n",
    "    guessed_word = [\"_\"] * len(word)  \n",
    "    attempts_left = 6  \n",
    "    guessed_letters = set()  \n",
    "    print(\"Welcome to Hangman!\")\n",
    "    print(\"The word has\", len(word), \"letters.\")\n",
    "    print(\"You have\", attempts_left, \"attempts to guess the word.\")\n",
    "    while attempts_left > 0:\n",
    "        print(\"\\n\" + \" \".join(guessed_word)) \n",
    "        guess = input(\"Guess a letter: \").lower()\n",
    "        if not guess.isalpha() or len(guess) != 1:\n",
    "            print(\"Invalid input. Please enter a single letter.\")\n",
    "            continue\n",
    "        if guess in guessed_letters:\n",
    "            print(f\"You've already guessed '{guess}'. Try another letter.\")\n",
    "            continue\n",
    "        guessed_letters.add(guess)\n",
    "        if guess in word:\n",
    "            print(f\"Good guess! '{guess}' is in the word.\")\n",
    "            for idx, letter in enumerate(word):\n",
    "                if letter == guess:\n",
    "                    guessed_word[idx] = guess\n",
    "        else:\n",
    "            attempts_left -= 1\n",
    "            print(f\"Wrong guess! '{guess}' is not in the word. You have {attempts_left} attempts left.\")\n",
    "        if \"_\" not in guessed_word:\n",
    "            print(\"\\nCongratulations! You guessed the word:\", word)\n",
    "            break\n",
    "    else:\n",
    "        print(\"\\nGame over! The word was:\", word)\n",
    "hangman()\n"
   ]
  }
 ],
 "metadata": {
  "kernelspec": {
   "display_name": "Python 3",
   "language": "python",
   "name": "python3"
  },
  "language_info": {
   "name": "python",
   "version": "3.12.6"
  }
 },
 "nbformat": 4,
 "nbformat_minor": 2
}
