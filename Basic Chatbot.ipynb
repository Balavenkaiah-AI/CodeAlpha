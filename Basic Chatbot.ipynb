{
 "cells": [
  {
   "cell_type": "code",
   "execution_count": null,
   "metadata": {},
   "outputs": [
    {
     "name": "stdout",
     "output_type": "stream",
     "text": [
      "ChatBot: Hi! I'm here to chat with you. Type 'quit' to exit.\n",
      "Hi there! What would you like to talk about?\n",
      "I am ChatBot, your virtual assistant.\n",
      "Take care! See you soon.\n",
      "Goodbye! Have a nice day!\n"
     ]
    }
   ],
   "source": [
    "import nltk\n",
    "from nltk.chat.util import Chat, reflections\n",
    "\n",
    "pairs = [\n",
    "    [\n",
    "        r\"hi|hello|hey\",\n",
    "        [\"Hello! How can I assist you today?\", \"Hi there! What would you like to talk about?\"]\n",
    "    ],\n",
    "    [\n",
    "        r\"what is your name\\??\",\n",
    "        [\"I am ChatBot, your virtual assistant.\", \"You can call me ChatBot!\"]\n",
    "    ],\n",
    "    [\n",
    "        r\"how are you\\??\",\n",
    "        [\"I'm just a program, but I'm functioning perfectly. How about you?\", \"I'm doing great! Thanks for asking.\"]\n",
    "    ],\n",
    "    [\n",
    "        r\"what can you do\\??\",\n",
    "        [\"I can chat with you, answer simple questions, and provide basic assistance.\", \n",
    "         \"I'm here to help you with information and friendly conversation.\"]\n",
    "    ],\n",
    "    [\n",
    "        r\"quit\",\n",
    "        [\"Goodbye! Have a nice day!\", \"Take care! See you soon.\"]\n",
    "    ],\n",
    "    [\n",
    "        r\"(.*)\",\n",
    "        [\"I'm not sure I understand. Can you clarify?\", \"Interesting! Tell me more.\"]\n",
    "    ]\n",
    "]\n",
    "\n",
    "def run_chatbot():\n",
    "    print(\"ChatBot: Hi! I'm here to chat with you. Type 'quit' to exit.\")\n",
    "    chat = Chat(pairs, reflections)\n",
    "    chat.converse()\n",
    "\n",
    "\n",
    "if __name__ == \"__main__\":\n",
    "    run_chatbot()\n"
   ]
  }
 ],
 "metadata": {
  "kernelspec": {
   "display_name": "Python 3",
   "language": "python",
   "name": "python3"
  },
  "language_info": {
   "codemirror_mode": {
    "name": "ipython",
    "version": 3
   },
   "file_extension": ".py",
   "mimetype": "text/x-python",
   "name": "python",
   "nbconvert_exporter": "python",
   "pygments_lexer": "ipython3",
   "version": "3.12.6"
  }
 },
 "nbformat": 4,
 "nbformat_minor": 2
}
